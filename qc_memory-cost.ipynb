{
 "cells": [
  {
   "cell_type": "markdown",
   "metadata": {},
   "source": [
    "### qiskit-aer quantum circuit simulation memory requirement"
   ]
  },
  {
   "cell_type": "markdown",
   "metadata": {},
   "source": [
    "Note：\n",
    "1 byte = 8 bits,\n",
    "1 KiB = 1,024 bytes,\n",
    "1 MiB = 1024Kib,\n",
    "1 GiB = 1024Mib,\n",
    "1 TiB = 1024 Gib,"
   ]
  },
  {
   "cell_type": "markdown",
   "metadata": {},
   "source": [
    "- 雙精度, 單節點 512G memory：`001-node -> 34q；552-node -> 44q`"
   ]
  },
  {
   "cell_type": "code",
   "execution_count": 7,
   "metadata": {},
   "outputs": [
    {
     "name": "stdout",
     "output_type": "stream",
     "text": [
      "25 512.0 0.0\n",
      "26 1024.0 0.0\n",
      "27 2048.0 0.0\n",
      "28 4096.0 0.01\n",
      "29 8192.0 0.02\n",
      "30 16384.0 0.03\n",
      "31 32768.0 0.06\n",
      "32 65536.0 0.12\n",
      "33 131072.0 0.25\n",
      "34 262144.0 0.5\n",
      "35 524288.0 1.0\n",
      "36 1048576.0 2.0\n",
      "37 2097152.0 4.0\n",
      "38 4194304.0 8.0\n",
      "39 8388608.0 16.0\n",
      "40 16777216.0 32.0\n",
      "41 33554432.0 64.0\n",
      "42 67108864.0 128.0\n",
      "43 134217728.0 256.0\n",
      "44 268435456.0 512.0\n",
      "45 536870912.0 1024.0\n",
      "46 1073741824.0 2048.0\n"
     ]
    }
   ],
   "source": [
    "import numpy as np\n",
    "single_node_memory = 512*1024\n",
    "byte_cp = 16\n",
    "qubits = np.arange(25,47)\n",
    "\n",
    "for q in qubits:\n",
    "    memory = (2**q/(1024*1024))*(byte_cp)\n",
    "    node = round(memory/(single_node_memory),2)\n",
    "    print(q,memory,node)"
   ]
  },
  {
   "cell_type": "markdown",
   "metadata": {},
   "source": [
    "- 單精度, 單節點 512G memory：`001-node -> 35q；552-node -> 45q`"
   ]
  },
  {
   "cell_type": "code",
   "execution_count": 8,
   "metadata": {},
   "outputs": [
    {
     "name": "stdout",
     "output_type": "stream",
     "text": [
      "25 256.0 0.0\n",
      "26 512.0 0.0\n",
      "27 1024.0 0.0\n",
      "28 2048.0 0.0\n",
      "29 4096.0 0.01\n",
      "30 8192.0 0.02\n",
      "31 16384.0 0.03\n",
      "32 32768.0 0.06\n",
      "33 65536.0 0.12\n",
      "34 131072.0 0.25\n",
      "35 262144.0 0.5\n",
      "36 524288.0 1.0\n",
      "37 1048576.0 2.0\n",
      "38 2097152.0 4.0\n",
      "39 4194304.0 8.0\n",
      "40 8388608.0 16.0\n",
      "41 16777216.0 32.0\n",
      "42 33554432.0 64.0\n",
      "43 67108864.0 128.0\n",
      "44 134217728.0 256.0\n",
      "45 268435456.0 512.0\n",
      "46 536870912.0 1024.0\n"
     ]
    }
   ],
   "source": [
    "import numpy as np\n",
    "single_node_memory = 512*1024\n",
    "byte_cp = 8\n",
    "qubits = np.arange(25,47)\n",
    "\n",
    "for q in qubits:\n",
    "    memory = (2**q/(1024*1024))*(byte_cp)\n",
    "    node = round(memory/(single_node_memory),2)\n",
    "    print(q,memory,node)"
   ]
  },
  {
   "cell_type": "markdown",
   "metadata": {},
   "source": [
    "- 雙精度, 單節點 256G memory：`001-node -> 33q；552-node -> 43q`"
   ]
  },
  {
   "cell_type": "code",
   "execution_count": 9,
   "metadata": {},
   "outputs": [
    {
     "name": "stdout",
     "output_type": "stream",
     "text": [
      "25 512.0 0.0\n",
      "26 1024.0 0.0\n",
      "27 2048.0 0.01\n",
      "28 4096.0 0.02\n",
      "29 8192.0 0.03\n",
      "30 16384.0 0.06\n",
      "31 32768.0 0.13\n",
      "32 65536.0 0.25\n",
      "33 131072.0 0.51\n",
      "34 262144.0 1.02\n",
      "35 524288.0 2.04\n",
      "36 1048576.0 4.07\n",
      "37 2097152.0 8.15\n",
      "38 4194304.0 16.3\n",
      "39 8388608.0 32.59\n",
      "40 16777216.0 65.19\n",
      "41 33554432.0 130.38\n",
      "42 67108864.0 260.76\n",
      "43 134217728.0 521.52\n",
      "44 268435456.0 1043.03\n",
      "45 536870912.0 2086.06\n",
      "46 1073741824.0 4172.12\n"
     ]
    }
   ],
   "source": [
    "import numpy as np\n",
    "single_node_memory = 257361\n",
    "byte_cp = 16\n",
    "qubits = np.arange(25,47)\n",
    "\n",
    "for q in qubits:\n",
    "    memory = (2**q/(1024*1024))*(byte_cp)\n",
    "    node = round(memory/(single_node_memory),2)\n",
    "    print(q,memory,node)"
   ]
  },
  {
   "cell_type": "markdown",
   "metadata": {},
   "source": [
    "- 單精度, 單節點 256G memory：`001-node -> 34q；552-node -> 44q`"
   ]
  },
  {
   "cell_type": "code",
   "execution_count": 10,
   "metadata": {},
   "outputs": [
    {
     "name": "stdout",
     "output_type": "stream",
     "text": [
      "25 256.0 0.0\n",
      "26 512.0 0.0\n",
      "27 1024.0 0.0\n",
      "28 2048.0 0.01\n",
      "29 4096.0 0.02\n",
      "30 8192.0 0.03\n",
      "31 16384.0 0.06\n",
      "32 32768.0 0.13\n",
      "33 65536.0 0.25\n",
      "34 131072.0 0.51\n",
      "35 262144.0 1.02\n",
      "36 524288.0 2.04\n",
      "37 1048576.0 4.07\n",
      "38 2097152.0 8.15\n",
      "39 4194304.0 16.3\n",
      "40 8388608.0 32.59\n",
      "41 16777216.0 65.19\n",
      "42 33554432.0 130.38\n",
      "43 67108864.0 260.76\n",
      "44 134217728.0 521.52\n",
      "45 268435456.0 1043.03\n",
      "46 536870912.0 2086.06\n"
     ]
    }
   ],
   "source": [
    "import numpy as np\n",
    "single_node_memory = 257361\n",
    "byte_cp = 8\n",
    "qubits = np.arange(25,47)\n",
    "\n",
    "for q in qubits:\n",
    "    memory = (2**q/(1024*1024))*(byte_cp)\n",
    "    node = round(memory/(single_node_memory),2)\n",
    "    print(q,memory,node)"
   ]
  },
  {
   "cell_type": "code",
   "execution_count": null,
   "metadata": {},
   "outputs": [],
   "source": []
  }
 ],
 "metadata": {
  "kernelspec": {
   "display_name": "qiskit_0.45.1",
   "language": "python",
   "name": "python3"
  },
  "language_info": {
   "codemirror_mode": {
    "name": "ipython",
    "version": 3
   },
   "file_extension": ".py",
   "mimetype": "text/x-python",
   "name": "python",
   "nbconvert_exporter": "python",
   "pygments_lexer": "ipython3",
   "version": "3.8.18"
  }
 },
 "nbformat": 4,
 "nbformat_minor": 2
}
