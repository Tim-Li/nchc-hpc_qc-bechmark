{
 "cells": [
  {
   "cell_type": "code",
   "execution_count": 1,
   "metadata": {},
   "outputs": [],
   "source": [
    "import qiskit\n",
    "from qiskit_aer import AerSimulator\n",
    "from qiskit.providers.fake_provider import FakeManilaV2"
   ]
  },
  {
   "cell_type": "code",
   "execution_count": 4,
   "metadata": {},
   "outputs": [
    {
     "data": {
      "image/png": "[encoded data removed]",
      "text/plain": [
       "<Figure size 747.609x367.889 with 1 Axes>"
      ]
     },
     "execution_count": 4,
     "metadata": {},
     "output_type": "execute_result"
    }
   ],
   "source": [
    "# Generate 3-qubit GHZ state\n",
    "circ = qiskit.QuantumCircuit(3)\n",
    "circ.h(0)\n",
    "circ.cx(0, 1)\n",
    "circ.cx(1, 2)\n",
    "circ.measure_all()\n",
    "circ.draw('mpl')"
   ]
  },
  {
   "cell_type": "code",
   "execution_count": 5,
   "metadata": {},
   "outputs": [
    {
     "name": "stdout",
     "output_type": "stream",
     "text": [
      "Counts(ideal): {'000': 508, '111': 516}\n"
     ]
    }
   ],
   "source": [
    "# Construct an ideal simulator\n",
    "aersim = AerSimulator()\n",
    "\n",
    "# Perform an ideal simulation\n",
    "result_ideal = aersim.run(circ).result()\n",
    "counts_ideal = result_ideal.get_counts(0)\n",
    "print('Counts(ideal):', counts_ideal)"
   ]
  },
  {
   "cell_type": "code",
   "execution_count": 7,
   "metadata": {},
   "outputs": [
    {
     "name": "stdout",
     "output_type": "stream",
     "text": [
      "Counts(noise): {'101': 11, '100': 15, '001': 76, '010': 11, '000': 382, '011': 21, '111': 437, '110': 71}\n"
     ]
    }
   ],
   "source": [
    "# Construct a noisy simulator backend from an IBMQ backend\n",
    "# This simulator backend will be automatically configured\n",
    "# using the device configuration and noise model\n",
    "backend = FakeManilaV2()\n",
    "aersim_backend = AerSimulator.from_backend(backend)\n",
    "\n",
    "# Perform noisy simulation\n",
    "result_noise = aersim_backend.run(circ).result()\n",
    "counts_noise = result_noise.get_counts(0)\n",
    "\n",
    "print('Counts(noise):', counts_noise)"
   ]
  },
  {
   "cell_type": "markdown",
   "metadata": {},
   "source": [
    "### qiskit aer study"
   ]
  },
  {
   "cell_type": "code",
   "execution_count": 8,
   "metadata": {},
   "outputs": [],
   "source": [
    "from qiskit_aer import AerSimulator, AerProvider, StatevectorSimulator"
   ]
  },
  {
   "cell_type": "code",
   "execution_count": 9,
   "metadata": {},
   "outputs": [
    {
     "data": {
      "text/plain": [
       "[AerSimulator('aer_simulator'),\n",
       " AerSimulator('aer_simulator'),\n",
       " AerSimulator('aer_simulator'),\n",
       " AerSimulator('aer_simulator'),\n",
       " AerSimulator('aer_simulator'),\n",
       " AerSimulator('aer_simulator'),\n",
       " AerSimulator('aer_simulator'),\n",
       " AerSimulator('aer_simulator'),\n",
       " AerSimulator('aer_simulator'),\n",
       " AerSimulator('aer_simulator'),\n",
       " AerSimulator('aer_simulator'),\n",
       " AerSimulator('aer_simulator'),\n",
       " QasmSimulator('qasm_simulator'),\n",
       " StatevectorSimulator('statevector_simulator'),\n",
       " UnitarySimulator('unitary_simulator')]"
      ]
     },
     "execution_count": 9,
     "metadata": {},
     "output_type": "execute_result"
    }
   ],
   "source": [
    "AerProvider().backends()"
   ]
  },
  {
   "cell_type": "markdown",
   "metadata": {},
   "source": [
    "StatevectorSimulator"
   ]
  },
  {
   "cell_type": "code",
   "execution_count": 12,
   "metadata": {},
   "outputs": [],
   "source": [
    "backend = StatevectorSimulator()"
   ]
  },
  {
   "cell_type": "code",
   "execution_count": 112,
   "metadata": {},
   "outputs": [
    {
     "name": "stdout",
     "output_type": "stream",
     "text": [
      "backend name: statevector_simulator\n",
      "backend description: A C++ statevector circuit simulator\n",
      "backend online_date: None\n",
      "backend_version: 0.13.1\n"
     ]
    }
   ],
   "source": [
    "print('backend name:',backend.name)\n",
    "# print('backend version:',backend.version)\n",
    "print('backend description:',backend.description)\n",
    "print('backend online_date:',backend.online_date)\n",
    "print('backend_version:',backend.backend_version)"
   ]
  },
  {
   "cell_type": "markdown",
   "metadata": {},
   "source": [
    "Backend Options"
   ]
  },
  {
   "cell_type": "code",
   "execution_count": 128,
   "metadata": {},
   "outputs": [
    {
     "name": "stdout",
     "output_type": "stream",
     "text": [
      "('CPU', 'GPU')\n"
     ]
    }
   ],
   "source": [
    "# device\n",
    "print(backend.available_devices())\n",
    "# backend.set_options(device='gpu')\n",
    "backend.set_options(device='cpu')"
   ]
  },
  {
   "cell_type": "code",
   "execution_count": 74,
   "metadata": {},
   "outputs": [],
   "source": [
    "# method [DEPRECATED]\n",
    "# backend.set_options(method='statevector_gpu')\n",
    "# backend.set_options(method='statevector')"
   ]
  },
  {
   "cell_type": "code",
   "execution_count": 75,
   "metadata": {},
   "outputs": [],
   "source": [
    "# precision\n",
    "# backend.set_options(precision=\"single\")\n",
    "backend.set_options(precision=\"double\")"
   ]
  },
  {
   "cell_type": "code",
   "execution_count": 77,
   "metadata": {},
   "outputs": [],
   "source": [
    "# executor (futures.Executor)\n",
    "# Set a custom executor for asynchronous running of simulation jobs (Default: None)\n",
    "backend.set_options(executor=None)"
   ]
  },
  {
   "cell_type": "code",
   "execution_count": 78,
   "metadata": {},
   "outputs": [],
   "source": [
    "# max_job_size (int or None) \n",
    "# If the number of run circuits exceeds this value simulation will be run as a set of of sub-jobs on the executor. \n",
    "# If None simulation of all circuits aer submitted to the executor as a single job (Default: None).\n",
    "backend.set_options(max_job_size=None)"
   ]
  },
  {
   "cell_type": "code",
   "execution_count": 79,
   "metadata": {},
   "outputs": [],
   "source": [
    "# max_shot_size (int or None)\n",
    "# If None circuits will not be split based on shots.\n",
    "# When splitting circuits use the max_job_size option to control how these split circuits should be submitted to the executor (Default: None).\n",
    "backend.set_options(max_shot_size=None)"
   ]
  },
  {
   "cell_type": "code",
   "execution_count": 80,
   "metadata": {},
   "outputs": [],
   "source": [
    "# zero_threshold (double) \n",
    "# Sets the threshold for truncating small values to zero in the result data (Default: 1e-10).\n",
    "backend.set_options(zero_threshold=1e-10)"
   ]
  },
  {
   "cell_type": "code",
   "execution_count": 81,
   "metadata": {},
   "outputs": [],
   "source": [
    "# validation_threshold (double) \n",
    "# Sets the threshold for checking if the initial statevector is valid (Default: 1e-8).\n",
    "backend.set_options(validation_threshold=1e-8)"
   ]
  },
  {
   "cell_type": "code",
   "execution_count": 82,
   "metadata": {},
   "outputs": [],
   "source": [
    "# max_parallel_threads (int) \n",
    "# Sets the maximum number of CPU cores used by OpenMP for parallelization. \n",
    "# If set to 0 the maximum will be set to the number of CPU cores (Default: 0).\n",
    "backend.set_options(max_parallel_threads=0)"
   ]
  },
  {
   "cell_type": "code",
   "execution_count": 83,
   "metadata": {},
   "outputs": [],
   "source": [
    "# max_parallel_experiments (int) \n",
    "# Sets the maximum number of qobj experiments that may be executed in parallel up to the max_parallel_threads value.\n",
    "# If set to 1 parallel circuit execution will be disabled. \n",
    "# If set to 0 the maximum will be automatically set to max_parallel_threads (Default: 1)\n",
    "backend.set_options(max_parallel_experiments=0)"
   ]
  },
  {
   "cell_type": "code",
   "execution_count": 116,
   "metadata": {},
   "outputs": [],
   "source": [
    "# max_memory_mb (int)\n",
    "# Sets the maximum size of memory to store a state vector. \n",
    "# If a state vector needs more, an error is thrown. In general, a state vector of n-qubits uses 2^n complex values (16 Bytes).  \n",
    "# If set to 0, the maximum will be automatically set to the system memory size (Default: 0).\n",
    "backend.set_options(max_memory_mb=0)"
   ]
  },
  {
   "cell_type": "code",
   "execution_count": 117,
   "metadata": {},
   "outputs": [],
   "source": [
    "# statevector_parallel_threshold (int)\n",
    "# Sets the threshold that “n_qubits” must be greater than to enable OpenMP parallelization for matrix multiplication during execution of an experiment. \n",
    "# If parallel circuit or shot execution is enabled this will only use unallocated CPU cores up to max_parallel_threads. \n",
    "# Note that setting this too low can reduce performance (Default: 14).\n",
    "backend.set_options(statevector_parallel_threshold=25)"
   ]
  },
  {
   "cell_type": "code",
   "execution_count": 119,
   "metadata": {},
   "outputs": [],
   "source": [
    "# fusion_enable (bool): Enable fusion optimization in circuit optimization passes [Default: True]\n",
    "backend.set_options(fusion_enable=1)"
   ]
  },
  {
   "cell_type": "code",
   "execution_count": 120,
   "metadata": {},
   "outputs": [],
   "source": [
    "# fusion_verbose (bool): Output gates generated in fusion optimization into metadata [Default: False]\n",
    "backend.set_options(fusion_verbose=0)"
   ]
  },
  {
   "cell_type": "code",
   "execution_count": 121,
   "metadata": {},
   "outputs": [],
   "source": [
    "# fusion_max_qubit (int): Maximum number of qubits for a operation generated in a fusion optimization [Default: 5]\n",
    "backend.set_options(fusion_max_qubit=5)"
   ]
  },
  {
   "cell_type": "code",
   "execution_count": 122,
   "metadata": {},
   "outputs": [],
   "source": [
    "# fusion_threshold (int): Threshold that number of qubits must be greater than or equal to enable fusion optimization [Default: 14]\n",
    "backend.set_options(fusion_threshold=14)"
   ]
  },
  {
   "cell_type": "code",
   "execution_count": 123,
   "metadata": {},
   "outputs": [
    {
     "name": "stdout",
     "output_type": "stream",
     "text": [
      "num_qubits: 29\n",
      "backend opt: Options(shots=1, device='cpu', precision='double', executor=None, max_job_size=None, max_shot_size=None, zero_threshold=1e-10, validation_threshold=1e-08, max_parallel_threads=0, max_parallel_experiments=0, max_parallel_shots=None, max_memory_mb=0, seed_simulator=None, fusion_enable=1, fusion_verbose=0, fusion_max_qubit=5, fusion_threshold=14, statevector_parallel_threshold=25)\n",
      "provider: None\n"
     ]
    }
   ],
   "source": [
    "# Attributes\n",
    "# print(backend.instruction_durations)\n",
    "# print(backend.instruction_schedule_map)\n",
    "# print(backend.instructions)\n",
    "# print(backend.max_circuits)\n",
    "print('num_qubits:',backend.num_qubits)\n",
    "# print(backend.operation_names)\n",
    "# print(backend.operations)\n",
    "print('backend opt:',backend.options)\n",
    "print('provider:',backend.provider)\n",
    "# print(backend.target)"
   ]
  },
  {
   "cell_type": "code",
   "execution_count": 138,
   "metadata": {},
   "outputs": [],
   "source": [
    "backend_full = StatevectorSimulator(shots=1000, \n",
    "                               device='cpu', \n",
    "                               precision='double', \n",
    "                               executor=None, \n",
    "                               max_job_size=None, \n",
    "                               max_shot_size=None, \n",
    "                               zero_threshold=1e-10, \n",
    "                               validation_threshold=1e-08, \n",
    "                               max_parallel_threads=0, \n",
    "                               max_parallel_experiments=0, \n",
    "                               max_parallel_shots=None, \n",
    "                               max_memory_mb=0, \n",
    "                               seed_simulator=None, \n",
    "                               fusion_enable=1, \n",
    "                               fusion_verbose=0, \n",
    "                               fusion_max_qubit=5, \n",
    "                               fusion_threshold=14, \n",
    "                               statevector_parallel_threshold=25\n",
    "                            )"
   ]
  },
  {
   "cell_type": "code",
   "execution_count": 134,
   "metadata": {},
   "outputs": [
    {
     "name": "stdout",
     "output_type": "stream",
     "text": [
      "backend opt: Options(shots=1000, device='cpu', precision='double', executor=None, max_job_size=None, max_shot_size=None, zero_threshold=1e-10, validation_threshold=1e-08, max_parallel_threads=0, max_parallel_experiments=0, max_parallel_shots=None, max_memory_mb=0, seed_simulator=None, fusion_enable=1, fusion_verbose=0, fusion_max_qubit=5, fusion_threshold=14, statevector_parallel_threshold=25)\n"
     ]
    }
   ],
   "source": [
    "print('backend opt:',backend_full.options)"
   ]
  },
  {
   "cell_type": "markdown",
   "metadata": {},
   "source": [
    "Backend Method"
   ]
  },
  {
   "cell_type": "code",
   "execution_count": 135,
   "metadata": {},
   "outputs": [],
   "source": [
    "backend_full.clear_options()"
   ]
  },
  {
   "cell_type": "code",
   "execution_count": 136,
   "metadata": {},
   "outputs": [
    {
     "name": "stdout",
     "output_type": "stream",
     "text": [
      "backend opt: Options(shots=1, device='CPU', precision='double', executor=None, max_job_size=None, max_shot_size=None, zero_threshold=1e-10, validation_threshold=None, max_parallel_threads=None, max_parallel_experiments=None, max_parallel_shots=None, max_memory_mb=None, seed_simulator=None, fusion_enable=True, fusion_verbose=False, fusion_max_qubit=5, fusion_threshold=14, statevector_parallel_threshold=14)\n"
     ]
    }
   ],
   "source": [
    "print('backend opt:',backend_full.options)"
   ]
  },
  {
   "cell_type": "code",
   "execution_count": 131,
   "metadata": {},
   "outputs": [
    {
     "name": "stdout",
     "output_type": "stream",
     "text": [
      "('CPU', 'GPU')\n",
      "('statevector',)\n",
      "<qiskit.providers.models.backendconfiguration.QasmBackendConfiguration object at 0x7f34d3127400>\n",
      "<qiskit.providers.models.backendstatus.BackendStatus object at 0x7f349c7b8e50>\n",
      "None\n"
     ]
    }
   ],
   "source": [
    "print(backend.available_devices())\n",
    "print(backend.available_methods())\n",
    "print(backend.configuration())\n",
    "print(backend.status())\n",
    "print(backend.properties())"
   ]
  },
  {
   "cell_type": "code",
   "execution_count": 137,
   "metadata": {},
   "outputs": [
    {
     "data": {
      "text/plain": [
       "'aer_backend_plugin'"
      ]
     },
     "execution_count": 137,
     "metadata": {},
     "output_type": "execute_result"
    }
   ],
   "source": [
    "backend_full.get_translation_stage_plugin()"
   ]
  },
  {
   "cell_type": "markdown",
   "metadata": {},
   "source": [
    "AerSimulator"
   ]
  },
  {
   "cell_type": "code",
   "execution_count": 149,
   "metadata": {},
   "outputs": [
    {
     "name": "stdout",
     "output_type": "stream",
     "text": [
      "backend opt: Options(shots=1024, method='automatic', device='CPU', precision='double', executor=None, max_job_size=None, max_shot_size=None, enable_truncation=True, zero_threshold=1e-10, validation_threshold=None, max_parallel_threads=None, max_parallel_experiments=None, max_parallel_shots=None, max_memory_mb=None, fusion_enable=True, fusion_verbose=False, fusion_max_qubit=None, fusion_threshold=None, accept_distributed_results=None, memory=None, noise_model=None, seed_simulator=None, cuStateVec_enable=False, blocking_qubits=None, blocking_enable=False, chunk_swap_buffer_qubits=None, batched_shots_gpu=False, batched_shots_gpu_max_qubits=16, num_threads_per_device=1, shot_branching_enable=False, shot_branching_sampling_enable=False, statevector_parallel_threshold=14, statevector_sample_measure_opt=10, stabilizer_max_snapshot_probabilities=32, extended_stabilizer_sampling_method='resampled_metropolis', extended_stabilizer_metropolis_mixing_time=5000, extended_stabilizer_approximation_error=0.05, extended_stabilizer_norm_estimation_samples=100, extended_stabilizer_norm_estimation_repetitions=3, extended_stabilizer_parallel_threshold=100, extended_stabilizer_probabilities_snapshot_samples=3000, matrix_product_state_truncation_threshold=1e-16, matrix_product_state_max_bond_dimension=None, mps_sample_measure_algorithm='mps_heuristic', mps_log_data=False, mps_swap_direction='mps_swap_left', chop_threshold=1e-08, mps_parallel_threshold=14, mps_omp_threads=1, tensor_network_num_sampling_qubits=10, use_cuTensorNet_autotuning=False, runtime_parameter_bind_enable=False)\n"
     ]
    }
   ],
   "source": [
    "backend = AerSimulator()\n",
    "print('backend opt:',backend.options)"
   ]
  },
  {
   "cell_type": "code",
   "execution_count": 154,
   "metadata": {},
   "outputs": [
    {
     "name": "stdout",
     "output_type": "stream",
     "text": [
      "backend name: aer_simulator\n",
      "backend description: A C++ QasmQobj simulator with noise\n",
      "backend online_date: None\n",
      "backend_version: 0.13.1\n",
      "available_methods: ('automatic', 'statevector', 'density_matrix', 'stabilizer', 'matrix_product_state', 'extended_stabilizer', 'unitary', 'superop', 'tensor_network')\n",
      "available_devices: ('CPU', 'GPU')\n"
     ]
    }
   ],
   "source": [
    "print('backend name:',backend.name)\n",
    "print('backend description:',backend.description)\n",
    "print('backend online_date:',backend.online_date)\n",
    "print('backend_version:',backend.backend_version)\n",
    "print('available_methods:',backend.available_methods())\n",
    "print('available_devices:',backend.available_devices())"
   ]
  },
  {
   "cell_type": "markdown",
   "metadata": {},
   "source": [
    "method='statevector' CPU"
   ]
  },
  {
   "cell_type": "code",
   "execution_count": 157,
   "metadata": {},
   "outputs": [
    {
     "name": "stdout",
     "output_type": "stream",
     "text": [
      "backend opt: Options(shots=1024, method='statevector', device='cpu', precision='double', executor=None, max_job_size=None, max_shot_size=None, enable_truncation=True, zero_threshold=1e-10, validation_threshold=1e-08, max_parallel_threads=0, max_parallel_experiments=0, max_parallel_shots=None, max_memory_mb=0, fusion_enable=1, fusion_verbose=0, fusion_max_qubit=5, fusion_threshold=14, accept_distributed_results=None, memory=None, noise_model=None, seed_simulator=None, cuStateVec_enable=False, blocking_qubits=0, blocking_enable=False, chunk_swap_buffer_qubits=15, batched_shots_gpu=False, batched_shots_gpu_max_qubits=16, num_threads_per_device=1, shot_branching_enable=False, shot_branching_sampling_enable=False, statevector_parallel_threshold=25, statevector_sample_measure_opt=10, stabilizer_max_snapshot_probabilities=32, extended_stabilizer_sampling_method='resampled_metropolis', extended_stabilizer_metropolis_mixing_time=5000, extended_stabilizer_approximation_error=0.05, extended_stabilizer_norm_estimation_samples=100, extended_stabilizer_norm_estimation_repetitions=3, extended_stabilizer_parallel_threshold=100, extended_stabilizer_probabilities_snapshot_samples=3000, matrix_product_state_truncation_threshold=1e-16, matrix_product_state_max_bond_dimension=None, mps_sample_measure_algorithm='mps_heuristic', mps_log_data=False, mps_swap_direction='mps_swap_left', chop_threshold=1e-08, mps_parallel_threshold=14, mps_omp_threads=1, tensor_network_num_sampling_qubits=10, use_cuTensorNet_autotuning=False, runtime_parameter_bind_enable=False)\n"
     ]
    }
   ],
   "source": [
    "backend = AerSimulator(method='statevector', \n",
    "                       device='cpu',\n",
    "                       precision='double', # \"single\" or \"double\"\n",
    "                       executor=None, \n",
    "                       max_job_size=None, \n",
    "                       max_shot_size=None, \n",
    "                       enable_truncation=True,\n",
    "                       zero_threshold=1e-10,\n",
    "                       validation_threshold=1e-08,\n",
    "                       max_parallel_threads=0,      # maximum number of CPU cores used by OpenMP for parallelization\n",
    "                       max_parallel_experiments=1,  # maximum number of qobj experiments that may be executed in parallel\n",
    "                       max_parallel_shots=0,        # maximum number of shots that may be executed in parallel during each experiment execution\n",
    "                       max_memory_mb=0,             # maximum size of memory to store a state vector\n",
    "                       cuStateVec_enable=False,\n",
    "                       blocking_enable=False,       # enables parallelization with multiple GPUs or multiple processes with MPI (CPU/GPU)\n",
    "                       blocking_qubits=0,           # number of qubits of chunk size used for parallelizing with multiple GPUs or multiple processes with MPI (CPU/GPU)\n",
    "                       chunk_swap_buffer_qubits=15, # number of qubits of maximum buffer size (=2^chunk_swap_buffer_qubits) used for multiple chunk-swaps over MPI processes\n",
    "                       batched_shots_gpu=False,     # enables batched execution of multiple shot simulations on GPU devices\n",
    "                       batched_shots_gpu_max_qubits=16,\n",
    "                       num_threads_per_device=1,    # number of threads per device\n",
    "                       shot_branching_enable=False,\n",
    "                       shot_branching_sampling_enable=False,\n",
    "                       accept_distributed_results=None,\n",
    "                       runtime_parameter_bind_enable=False,\n",
    "                       statevector_parallel_threshold=25,\n",
    "                       statevector_sample_measure_opt=10,\n",
    "                       seed_simulator=None, \n",
    "                       fusion_enable=1, \n",
    "                       fusion_verbose=0, \n",
    "                       fusion_max_qubit=5, \n",
    "                       fusion_threshold=14, \n",
    "                    )\n",
    "print('backend opt:',backend.options)"
   ]
  },
  {
   "cell_type": "markdown",
   "metadata": {},
   "source": [
    "method='statevector' GPU"
   ]
  },
  {
   "cell_type": "code",
   "execution_count": null,
   "metadata": {},
   "outputs": [],
   "source": [
    "backend = AerSimulator(method='statevector', \n",
    "                       device='cpu', \n",
    "                       precision='double', \n",
    "                       executor=None, \n",
    "                       max_job_size=None, \n",
    "                       max_shot_size=None, \n",
    "                       enable_truncation=True,\n",
    "                       zero_threshold=1e-10,\n",
    "                       validation_threshold=1e-08,\n",
    "                       max_parallel_threads=0, \n",
    "                       max_parallel_experiments=0, \n",
    "                       max_parallel_shots=None, \n",
    "                       max_memory_mb=0, \n",
    "                       cuStateVec_enable=False,\n",
    "                       blocking_enable=False,\n",
    "                       blocking_qubits=0,\n",
    "                       chunk_swap_buffer_qubits=15,\n",
    "                       batched_shots_gpu=False,\n",
    "                       batched_shots_gpu_max_qubits=16,\n",
    "                       num_threads_per_device=1,\n",
    "                       shot_branching_enable=False,\n",
    "                       shot_branching_sampling_enable=False,\n",
    "                       accept_distributed_results=None,\n",
    "                       runtime_parameter_bind_enable=False,\n",
    "                       statevector_parallel_threshold=25,\n",
    "                       statevector_sample_measure_opt=10,\n",
    "                       seed_simulator=None, \n",
    "                       fusion_enable=1, \n",
    "                       fusion_verbose=0, \n",
    "                       fusion_max_qubit=5, \n",
    "                       fusion_threshold=14, \n",
    "                    )\n",
    "print('backend opt:',backend.options)"
   ]
  },
  {
   "cell_type": "markdown",
   "metadata": {},
   "source": [
    "Real-hardware qc simulator"
   ]
  },
  {
   "cell_type": "code",
   "execution_count": 159,
   "metadata": {},
   "outputs": [],
   "source": [
    "backend = FakeManilaV2()\n",
    "aersim_backend = AerSimulator.from_backend(backend)"
   ]
  }
 ],
 "metadata": {
  "kernelspec": {
   "display_name": "qiskit_0.45.1",
   "language": "python",
   "name": "python3"
  },
  "language_info": {
   "codemirror_mode": {
    "name": "ipython",
    "version": 3
   },
   "file_extension": ".py",
   "mimetype": "text/x-python",
   "name": "python",
   "nbconvert_exporter": "python",
   "pygments_lexer": "ipython3",
   "version": "3.9.18"
  }
 },
 "nbformat": 4,
 "nbformat_minor": 2
}
